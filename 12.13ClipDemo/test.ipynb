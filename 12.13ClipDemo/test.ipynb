{
 "cells": [
  {
   "cell_type": "code",
   "execution_count": 4,
   "metadata": {},
   "outputs": [
    {
     "name": "stdout",
     "output_type": "stream",
     "text": [
      "tensor(5.4373)\n"
     ]
    }
   ],
   "source": [
    "import torch\n",
    "import torch.nn as nn\n",
    "n = 128\n",
    "labels = torch.arange(n)\n",
    "\n",
    "logits = torch.randn(n, n)\n",
    "\n",
    "loss = nn.CrossEntropyLoss()(logits, labels)\n",
    "\n",
    "print(loss)\n"
   ]
  },
  {
   "cell_type": "code",
   "execution_count": 16,
   "metadata": {},
   "outputs": [
    {
     "name": "stdout",
     "output_type": "stream",
     "text": [
      "tensor(0.2426)\n",
      "tensor(0.2426)\n"
     ]
    }
   ],
   "source": [
    "import torch\n",
    "import torch.nn.functional as F\n",
    "\n",
    "# 简化版示例：3个样本，4个类别\n",
    "logits = torch.tensor([\n",
    "    [2.0, 1.0, 0.1, 0.1],  # 第1个样本的4个类别的预测分数\n",
    "    [0.1, 3.0, 0.2, 0.1],  # 第2个样本的4个类别的预测分数\n",
    "    [0.1, 0.1, 4.0, 0.1],  # 第3个样本的4个类别的预测分数\n",
    "])\n",
    "\n",
    "labels = torch.tensor([0, 1, 2])  # 3个样本的真实类别\n",
    "loss = nn.CrossEntropyLoss()\n",
    "output = loss(logits, labels)\n",
    "print(output)\n",
    "\n",
    "loss = nn.NLLLoss()\n",
    "output = loss(torch.log(nn.Softmax(dim=1)(logits)), labels)\n",
    "\n",
    "\n",
    "\n",
    "print(output)"
   ]
  }
 ],
 "metadata": {
  "kernelspec": {
   "display_name": "torch",
   "language": "python",
   "name": "python3"
  },
  "language_info": {
   "codemirror_mode": {
    "name": "ipython",
    "version": 3
   },
   "file_extension": ".py",
   "mimetype": "text/x-python",
   "name": "python",
   "nbconvert_exporter": "python",
   "pygments_lexer": "ipython3",
   "version": "3.9.18"
  }
 },
 "nbformat": 4,
 "nbformat_minor": 2
}
